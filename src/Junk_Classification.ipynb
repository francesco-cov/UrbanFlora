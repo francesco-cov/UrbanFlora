{
  "nbformat": 4,
  "nbformat_minor": 0,
  "metadata": {
    "colab": {
      "name": "Junk Classification.ipynb",
      "provenance": [],
      "collapsed_sections": [
        "RS6bGDCkbjA7",
        "GPrqyswAbxsm",
        "frmh5vPNcLZK"
      ]
    },
    "kernelspec": {
      "name": "python3",
      "display_name": "Python 3"
    },
    "language_info": {
      "name": "python"
    },
    "accelerator": "GPU"
  },
  "cells": [
    {
      "cell_type": "markdown",
      "source": [
        "# Junk Classification\n",
        "\n",
        "Questo notebook contiene l'intera pipeline di lavoro svolto al fine di ottenere una rete neurale per la classificazione di immagini di rifiuti.\n",
        "Per l'esecuzione è consigliato l'utilizzo di una GPU."
      ],
      "metadata": {
        "id": "LTtpYQ91tdoU"
      }
    },
    {
      "cell_type": "markdown",
      "source": [
        "## Operazioni Preliminari\n",
        "Cloniamo il repository del dataset e lo estraiamo dopo aver specificato alcuni import. \n",
        "Ci accertiamo che tutto sia stato eseguito correttamente verificando il numero di immagini presenti nella cartella estratta.\n"
      ],
      "metadata": {
        "id": "rQUbrzPGSsVx"
      }
    },
    {
      "cell_type": "code",
      "source": [
        "!git clone https://github.com/garythung/trashnet.git"
      ],
      "metadata": {
        "id": "Hiamkaj5ODRU",
        "colab": {
          "base_uri": "https://localhost:8080/"
        },
        "outputId": "f5db2193-b0b4-49f4-fa5b-5ece568975b5"
      },
      "execution_count": 1,
      "outputs": [
        {
          "output_type": "stream",
          "name": "stdout",
          "text": [
            "Cloning into 'trashnet'...\n",
            "remote: Enumerating objects: 39, done.\u001b[K\n",
            "remote: Counting objects: 100% (6/6), done.\u001b[K\n",
            "remote: Compressing objects: 100% (6/6), done.\u001b[K\n",
            "remote: Total 39 (delta 2), reused 0 (delta 0), pack-reused 33\u001b[K\n",
            "Unpacking objects: 100% (39/39), done.\n"
          ]
        }
      ]
    },
    {
      "cell_type": "code",
      "source": [
        "!pip install -q -U keras-tuner"
      ],
      "metadata": {
        "colab": {
          "base_uri": "https://localhost:8080/"
        },
        "id": "pWn2CqpMDamG",
        "outputId": "0d9218e2-e400-486f-a97c-ee431c031c2e"
      },
      "execution_count": 2,
      "outputs": [
        {
          "output_type": "stream",
          "name": "stdout",
          "text": [
            "\u001b[?25l\r\u001b[K     |███▍                            | 10 kB 14.5 MB/s eta 0:00:01\r\u001b[K     |██████▊                         | 20 kB 17.3 MB/s eta 0:00:01\r\u001b[K     |██████████                      | 30 kB 18.3 MB/s eta 0:00:01\r\u001b[K     |█████████████▍                  | 40 kB 11.9 MB/s eta 0:00:01\r\u001b[K     |████████████████▊               | 51 kB 10.7 MB/s eta 0:00:01\r\u001b[K     |████████████████████            | 61 kB 7.9 MB/s eta 0:00:01\r\u001b[K     |███████████████████████▍        | 71 kB 5.8 MB/s eta 0:00:01\r\u001b[K     |██████████████████████████▊     | 81 kB 6.4 MB/s eta 0:00:01\r\u001b[K     |██████████████████████████████  | 92 kB 6.9 MB/s eta 0:00:01\r\u001b[K     |████████████████████████████████| 98 kB 3.5 MB/s \n",
            "\u001b[?25h"
          ]
        }
      ]
    },
    {
      "cell_type": "code",
      "execution_count": 3,
      "metadata": {
        "id": "LFKhyuWKMY0U"
      },
      "outputs": [],
      "source": [
        "import matplotlib.pyplot as plt\n",
        "import numpy as np\n",
        "import os\n",
        "import PIL\n",
        "import pathlib\n",
        "import zipfile\n",
        "\n",
        "import tensorflow as tf\n",
        "\n",
        "from tensorflow import keras\n",
        "import keras_tuner as kt\n",
        "from tensorflow.keras import layers\n",
        "from tensorflow.keras.models import Sequential"
      ]
    },
    {
      "cell_type": "code",
      "source": [
        "with zipfile.ZipFile(\"/content/trashnet/data/dataset-resized.zip\", 'r') as zip_ref:\n",
        "    zip_ref.extractall(\"/content/trashnet/data/dataset-resized\")"
      ],
      "metadata": {
        "id": "R9gPYrkIP7T8"
      },
      "execution_count": 4,
      "outputs": []
    },
    {
      "cell_type": "code",
      "source": [
        "data_dir = pathlib.Path(\"/content/trashnet/data/dataset-resized/dataset-resized\")"
      ],
      "metadata": {
        "id": "_4xNHT18MjrH"
      },
      "execution_count": 5,
      "outputs": []
    },
    {
      "cell_type": "code",
      "source": [
        "image_count = len(list(data_dir.glob('*/*.jpg')))\n",
        "print(image_count)"
      ],
      "metadata": {
        "colab": {
          "base_uri": "https://localhost:8080/"
        },
        "id": "K9uB5l3lNujT",
        "outputId": "2efb0bbe-d6ea-41d8-a48a-3db7a9cee678"
      },
      "execution_count": null,
      "outputs": [
        {
          "output_type": "stream",
          "name": "stdout",
          "text": [
            "2527\n"
          ]
        }
      ]
    },
    {
      "cell_type": "markdown",
      "source": [
        "# Definizione Modello Base\n",
        "Definiamo le costanti utilizzate e effettuiamo lo splitting del dataset.\n",
        "Definiamo l'architettura di partenza del modello utilizzato e eseguiamo un primo training per visualizzare la performance iniziale del modello."
      ],
      "metadata": {
        "id": "Xd9DasSUS0ub"
      }
    },
    {
      "cell_type": "markdown",
      "source": [
        "### Costanti"
      ],
      "metadata": {
        "id": "U2WGhFaZi5b9"
      }
    },
    {
      "cell_type": "code",
      "source": [
        "CARDBOARD = 0\n",
        "GLASS = 1\n",
        "METAL = 2\n",
        "PAPER = 3\n",
        "PLASTIC = 4\n",
        "TRASH = 5\n",
        "\n",
        "DIM1 = 384\n",
        "DIM2 = 512\n",
        "\n",
        "batch_size = 32\n",
        "img_height = DIM1\n",
        "img_width = DIM2\n"
      ],
      "metadata": {
        "id": "5f-VcYw6PbbL"
      },
      "execution_count": 6,
      "outputs": []
    },
    {
      "cell_type": "markdown",
      "source": [
        "### Train e Validation Set\n"
      ],
      "metadata": {
        "id": "rLAJAwkTbQR_"
      }
    },
    {
      "cell_type": "code",
      "source": [
        "train_ds = tf.keras.utils.image_dataset_from_directory(\n",
        "  data_dir,\n",
        "  validation_split=0.2,\n",
        "  subset=\"training\",\n",
        "  seed=123,\n",
        "  image_size=(img_height, img_width),\n",
        "  batch_size=batch_size)"
      ],
      "metadata": {
        "colab": {
          "base_uri": "https://localhost:8080/"
        },
        "id": "17duskDBOucm",
        "outputId": "f5ed9e0a-3d2d-41df-8ca4-2e2cc93f3c60"
      },
      "execution_count": 7,
      "outputs": [
        {
          "output_type": "stream",
          "name": "stdout",
          "text": [
            "Found 2527 files belonging to 6 classes.\n",
            "Using 2022 files for training.\n"
          ]
        }
      ]
    },
    {
      "cell_type": "code",
      "source": [
        "val_ds = tf.keras.utils.image_dataset_from_directory(\n",
        "  data_dir,\n",
        "  validation_split=0.2,\n",
        "  subset=\"validation\",\n",
        "  seed=123,\n",
        "  image_size=(img_height, img_width),\n",
        "  batch_size=batch_size)"
      ],
      "metadata": {
        "colab": {
          "base_uri": "https://localhost:8080/"
        },
        "id": "4UPSiutERBiG",
        "outputId": "5a4982df-6eab-4e19-e631-c1b1c375818c"
      },
      "execution_count": 8,
      "outputs": [
        {
          "output_type": "stream",
          "name": "stdout",
          "text": [
            "Found 2527 files belonging to 6 classes.\n",
            "Using 505 files for validation.\n"
          ]
        }
      ]
    },
    {
      "cell_type": "code",
      "source": [
        "class_names = train_ds.class_names\n",
        "print(class_names)"
      ],
      "metadata": {
        "colab": {
          "base_uri": "https://localhost:8080/"
        },
        "id": "JRZ2upkeRPgb",
        "outputId": "aa7fb13a-90ae-4af4-edc8-a0467eef6d9b"
      },
      "execution_count": 9,
      "outputs": [
        {
          "output_type": "stream",
          "name": "stdout",
          "text": [
            "['cardboard', 'glass', 'metal', 'paper', 'plastic', 'trash']\n"
          ]
        }
      ]
    },
    {
      "cell_type": "code",
      "source": [
        "num_classes = len(class_names)"
      ],
      "metadata": {
        "id": "xfjdkSzoEmOW"
      },
      "execution_count": 10,
      "outputs": []
    },
    {
      "cell_type": "markdown",
      "source": [
        "### Ottimizzazione prestazioni\n"
      ],
      "metadata": {
        "id": "RS6bGDCkbjA7"
      }
    },
    {
      "cell_type": "code",
      "source": [
        "AUTOTUNE = tf.data.AUTOTUNE\n",
        "\n",
        "train_ds = train_ds.cache().shuffle(1000).prefetch(buffer_size=AUTOTUNE)\n",
        "val_ds = val_ds.cache().prefetch(buffer_size=AUTOTUNE)"
      ],
      "metadata": {
        "id": "xNb3foPoRvLL"
      },
      "execution_count": 11,
      "outputs": []
    },
    {
      "cell_type": "markdown",
      "source": [
        "### Architettura Base\n",
        "\n",
        "Compreso un layer di standardizzazione per i valori del canale RGB\n",
        "[0, 255] -> [0, 1]"
      ],
      "metadata": {
        "id": "GPrqyswAbxsm"
      }
    },
    {
      "cell_type": "code",
      "source": [
        "\n",
        "\n",
        "model = Sequential([\n",
        "  layers.Rescaling(1./255, input_shape=(img_height, img_width, 3)),\n",
        "  layers.Conv2D(16, 3, padding='same', activation='relu'),\n",
        "  layers.MaxPooling2D(),\n",
        "  layers.Conv2D(32, 3, padding='same', activation='relu'),\n",
        "  layers.MaxPooling2D(),\n",
        "  layers.Conv2D(64, 3, padding='same', activation='relu'),\n",
        "  layers.MaxPooling2D(),\n",
        "  layers.Flatten(),\n",
        "  layers.Dense(128, activation='relu'),\n",
        "  layers.Dense(num_classes)\n",
        "])"
      ],
      "metadata": {
        "id": "OaV6bspkSFtD"
      },
      "execution_count": null,
      "outputs": []
    },
    {
      "cell_type": "code",
      "source": [
        "model.compile(optimizer='adam',\n",
        "              loss=tf.keras.losses.SparseCategoricalCrossentropy(from_logits=True),\n",
        "              metrics=['accuracy'])"
      ],
      "metadata": {
        "id": "70FlyE6cSIbn"
      },
      "execution_count": null,
      "outputs": []
    },
    {
      "cell_type": "code",
      "source": [
        "model.summary()"
      ],
      "metadata": {
        "id": "6gONAzH2SMsb",
        "colab": {
          "base_uri": "https://localhost:8080/"
        },
        "outputId": "897b1255-fc46-4db3-eedb-9a7a30654879"
      },
      "execution_count": null,
      "outputs": [
        {
          "output_type": "stream",
          "name": "stdout",
          "text": [
            "Model: \"sequential\"\n",
            "_________________________________________________________________\n",
            " Layer (type)                Output Shape              Param #   \n",
            "=================================================================\n",
            " rescaling (Rescaling)       (None, 384, 512, 3)       0         \n",
            "                                                                 \n",
            " conv2d (Conv2D)             (None, 384, 512, 16)      448       \n",
            "                                                                 \n",
            " max_pooling2d (MaxPooling2D  (None, 192, 256, 16)     0         \n",
            " )                                                               \n",
            "                                                                 \n",
            " conv2d_1 (Conv2D)           (None, 192, 256, 32)      4640      \n",
            "                                                                 \n",
            " max_pooling2d_1 (MaxPooling  (None, 96, 128, 32)      0         \n",
            " 2D)                                                             \n",
            "                                                                 \n",
            " conv2d_2 (Conv2D)           (None, 96, 128, 64)       18496     \n",
            "                                                                 \n",
            " max_pooling2d_2 (MaxPooling  (None, 48, 64, 64)       0         \n",
            " 2D)                                                             \n",
            "                                                                 \n",
            " flatten (Flatten)           (None, 196608)            0         \n",
            "                                                                 \n",
            " dense (Dense)               (None, 128)               25165952  \n",
            "                                                                 \n",
            " dense_1 (Dense)             (None, 6)                 774       \n",
            "                                                                 \n",
            "=================================================================\n",
            "Total params: 25,190,310\n",
            "Trainable params: 25,190,310\n",
            "Non-trainable params: 0\n",
            "_________________________________________________________________\n"
          ]
        }
      ]
    },
    {
      "cell_type": "markdown",
      "source": [
        "### Training e Visualizzazione Risultati"
      ],
      "metadata": {
        "id": "frmh5vPNcLZK"
      }
    },
    {
      "cell_type": "code",
      "source": [
        "epochs=10\n",
        "history = model.fit(\n",
        "  train_ds,\n",
        "  validation_data=val_ds,\n",
        "  epochs=epochs\n",
        ")"
      ],
      "metadata": {
        "colab": {
          "base_uri": "https://localhost:8080/"
        },
        "id": "CC8YQy8VSSmq",
        "outputId": "fc4b9181-5911-4965-b788-4816a90b7da5"
      },
      "execution_count": null,
      "outputs": [
        {
          "output_type": "stream",
          "name": "stdout",
          "text": [
            "Epoch 1/10\n",
            "64/64 [==============================] - 30s 145ms/step - loss: 2.2982 - accuracy: 0.2819 - val_loss: 1.4881 - val_accuracy: 0.4079\n",
            "Epoch 2/10\n",
            "64/64 [==============================] - 7s 104ms/step - loss: 1.4048 - accuracy: 0.4283 - val_loss: 1.3624 - val_accuracy: 0.4634\n",
            "Epoch 3/10\n",
            "64/64 [==============================] - 7s 103ms/step - loss: 1.2169 - accuracy: 0.5287 - val_loss: 1.2087 - val_accuracy: 0.5050\n",
            "Epoch 4/10\n",
            "64/64 [==============================] - 7s 109ms/step - loss: 0.9496 - accuracy: 0.6355 - val_loss: 1.1514 - val_accuracy: 0.5743\n",
            "Epoch 5/10\n",
            "64/64 [==============================] - 7s 104ms/step - loss: 0.7196 - accuracy: 0.7483 - val_loss: 1.2931 - val_accuracy: 0.5663\n",
            "Epoch 6/10\n",
            "64/64 [==============================] - 7s 105ms/step - loss: 0.5360 - accuracy: 0.8116 - val_loss: 1.4728 - val_accuracy: 0.5406\n",
            "Epoch 7/10\n",
            "64/64 [==============================] - 7s 115ms/step - loss: 0.3626 - accuracy: 0.8808 - val_loss: 1.4395 - val_accuracy: 0.5881\n",
            "Epoch 8/10\n",
            "64/64 [==============================] - 7s 106ms/step - loss: 0.2309 - accuracy: 0.9243 - val_loss: 2.0080 - val_accuracy: 0.5624\n",
            "Epoch 9/10\n",
            "64/64 [==============================] - 7s 107ms/step - loss: 0.2076 - accuracy: 0.9352 - val_loss: 1.9242 - val_accuracy: 0.5782\n",
            "Epoch 10/10\n",
            "64/64 [==============================] - 7s 107ms/step - loss: 0.1400 - accuracy: 0.9634 - val_loss: 2.1585 - val_accuracy: 0.5683\n"
          ]
        }
      ]
    },
    {
      "cell_type": "code",
      "source": [
        "def print_results(history, epochs):\n",
        "  \n",
        "  acc = history.history['accuracy']\n",
        "  val_acc = history.history['val_accuracy']\n",
        "\n",
        "  loss = history.history['loss']\n",
        "  val_loss = history.history['val_loss']\n",
        "\n",
        "  epochs_range = range(epochs)\n",
        "\n",
        "  plt.figure(figsize=(8, 8))\n",
        "  plt.subplot(1, 2, 1)\n",
        "  plt.plot(epochs_range, acc, label='Training Accuracy')\n",
        "  plt.plot(epochs_range, val_acc, label='Validation Accuracy')\n",
        "  plt.legend(loc='lower right')\n",
        "  plt.title('Training and Validation Accuracy')\n",
        "\n",
        "  plt.subplot(1, 2, 2)\n",
        "  plt.plot(epochs_range, loss, label='Training Loss')\n",
        "  plt.plot(epochs_range, val_loss, label='Validation Loss')\n",
        "  plt.legend(loc='upper right')\n",
        "  plt.title('Training and Validation Loss')\n",
        "  plt.show()\n"
      ],
      "metadata": {
        "id": "ClPefkd9RaPI"
      },
      "execution_count": 12,
      "outputs": []
    },
    {
      "cell_type": "code",
      "source": [
        "print_results(history, epochs)"
      ],
      "metadata": {
        "colab": {
          "base_uri": "https://localhost:8080/",
          "height": 498
        },
        "id": "vcwVwAJESWui",
        "outputId": "7a309f74-987f-4918-d773-bfaaf8026680"
      },
      "execution_count": null,
      "outputs": [
        {
          "output_type": "display_data",
          "data": {
            "image/png": "[encoded data removed]",
            "text/plain": [
              "<Figure size 576x576 with 2 Axes>"
            ]
          },
          "metadata": {
            "needs_background": "light"
          }
        }
      ]
    },
    {
      "cell_type": "markdown",
      "source": [
        "## Modello Migliorato\n",
        "I risultati precedenti evidenziano l'overfitting del modello.\n",
        "* Aggiungiamo un layer di Data Augmentation per migliorare le prestazioni\n",
        "* Aggiungiamo un layer di Dropout per ridurre l'overfitting\n",
        "* Rendiamo l'architettura più profonda, aggiungendo un layer convoluzionale."
      ],
      "metadata": {
        "id": "dze5Z31kBeE_"
      }
    },
    {
      "cell_type": "code",
      "source": [
        "data_augmentation = keras.Sequential(\n",
        "  [\n",
        "    layers.RandomFlip(\"horizontal_and_vertical\",\n",
        "                      input_shape=(img_height,\n",
        "                                  img_width,\n",
        "                                  3)),\n",
        "    layers.RandomRotation(0.2),\n",
        "    layers.RandomZoom(0.2),\n",
        "    layers.RandomContrast(0.3)\n",
        "  ]\n",
        ")"
      ],
      "metadata": {
        "id": "hKngMBMtBzHQ"
      },
      "execution_count": 13,
      "outputs": []
    },
    {
      "cell_type": "code",
      "source": [
        "model = Sequential([\n",
        "  data_augmentation,\n",
        "  layers.Rescaling(1./255),\n",
        "  layers.Conv2D(16, 3, padding='same', activation='relu'),\n",
        "  layers.MaxPooling2D(),\n",
        "  layers.Conv2D(32, 3, padding='same', activation='relu'),\n",
        "  layers.MaxPooling2D(),\n",
        "  layers.Conv2D(64, 3, padding='same', activation='relu'),\n",
        "  layers.MaxPooling2D(),\n",
        "  layers.Conv2D(128, 3, padding='same', activation='relu'),\n",
        "  layers.MaxPooling2D(),\n",
        "  layers.Dropout(0.2),\n",
        "  layers.Flatten(),\n",
        "  layers.Dense(128, activation='relu'),\n",
        "  layers.Dense(num_classes)\n",
        "])"
      ],
      "metadata": {
        "id": "kAtVlMCuDCaQ"
      },
      "execution_count": null,
      "outputs": []
    },
    {
      "cell_type": "code",
      "source": [
        "model.compile(optimizer='adam',\n",
        "              loss=tf.keras.losses.SparseCategoricalCrossentropy(from_logits=True),\n",
        "              metrics=['accuracy'])"
      ],
      "metadata": {
        "id": "Q6zSmSULD1BU"
      },
      "execution_count": null,
      "outputs": []
    },
    {
      "cell_type": "code",
      "source": [
        "model.summary()"
      ],
      "metadata": {
        "id": "u35zJDgGD3RT"
      },
      "execution_count": null,
      "outputs": []
    },
    {
      "cell_type": "code",
      "source": [
        "epochs = 15\n",
        "history = model.fit(\n",
        "  train_ds,\n",
        "  validation_data=val_ds,\n",
        "  epochs=epochs\n",
        ")"
      ],
      "metadata": {
        "colab": {
          "base_uri": "https://localhost:8080/"
        },
        "id": "IzX3J_3xE-Qh",
        "outputId": "895014ea-c9bc-44f8-bd08-37f1bf843b2f"
      },
      "execution_count": null,
      "outputs": [
        {
          "output_type": "stream",
          "name": "stdout",
          "text": [
            "Epoch 1/15\n",
            "64/64 [==============================] - 11s 141ms/step - loss: 1.7474 - accuracy: 0.2760 - val_loss: 1.6884 - val_accuracy: 0.2871\n",
            "Epoch 2/15\n",
            "64/64 [==============================] - 8s 125ms/step - loss: 1.4831 - accuracy: 0.3882 - val_loss: 1.3391 - val_accuracy: 0.4752\n",
            "Epoch 3/15\n",
            "64/64 [==============================] - 8s 126ms/step - loss: 1.3448 - accuracy: 0.4659 - val_loss: 1.2272 - val_accuracy: 0.5069\n",
            "Epoch 4/15\n",
            "64/64 [==============================] - 8s 126ms/step - loss: 1.2695 - accuracy: 0.4891 - val_loss: 1.4574 - val_accuracy: 0.4257\n",
            "Epoch 5/15\n",
            "64/64 [==============================] - 8s 126ms/step - loss: 1.2945 - accuracy: 0.5079 - val_loss: 1.2417 - val_accuracy: 0.5366\n",
            "Epoch 6/15\n",
            "64/64 [==============================] - 8s 126ms/step - loss: 1.2189 - accuracy: 0.5346 - val_loss: 1.1644 - val_accuracy: 0.5347\n",
            "Epoch 7/15\n",
            "64/64 [==============================] - 8s 126ms/step - loss: 1.1667 - accuracy: 0.5495 - val_loss: 1.1098 - val_accuracy: 0.5683\n",
            "Epoch 8/15\n",
            "64/64 [==============================] - 8s 126ms/step - loss: 1.1107 - accuracy: 0.5757 - val_loss: 1.0527 - val_accuracy: 0.6139\n",
            "Epoch 9/15\n",
            "64/64 [==============================] - 8s 127ms/step - loss: 1.0942 - accuracy: 0.5796 - val_loss: 1.1065 - val_accuracy: 0.5960\n",
            "Epoch 10/15\n",
            "64/64 [==============================] - 8s 127ms/step - loss: 1.1289 - accuracy: 0.5678 - val_loss: 0.9949 - val_accuracy: 0.6099\n",
            "Epoch 11/15\n",
            "64/64 [==============================] - 8s 126ms/step - loss: 1.0669 - accuracy: 0.5969 - val_loss: 0.9474 - val_accuracy: 0.6218\n",
            "Epoch 12/15\n",
            "64/64 [==============================] - 8s 127ms/step - loss: 0.9976 - accuracy: 0.6207 - val_loss: 0.9779 - val_accuracy: 0.6158\n",
            "Epoch 13/15\n",
            "64/64 [==============================] - 8s 127ms/step - loss: 0.9373 - accuracy: 0.6617 - val_loss: 1.1035 - val_accuracy: 0.5802\n",
            "Epoch 14/15\n",
            "64/64 [==============================] - 8s 127ms/step - loss: 0.9924 - accuracy: 0.6266 - val_loss: 0.9738 - val_accuracy: 0.6554\n",
            "Epoch 15/15\n",
            "64/64 [==============================] - 8s 129ms/step - loss: 0.9110 - accuracy: 0.6652 - val_loss: 0.9297 - val_accuracy: 0.6356\n"
          ]
        }
      ]
    },
    {
      "cell_type": "code",
      "source": [
        "print_results(history, epochs)"
      ],
      "metadata": {
        "colab": {
          "base_uri": "https://localhost:8080/",
          "height": 498
        },
        "id": "H_HWDiZPD5OF",
        "outputId": "f216869d-d37a-4ffd-fe4a-04469012a7bc"
      },
      "execution_count": null,
      "outputs": [
        {
          "output_type": "display_data",
          "data": {
            "image/png": "[encoded data removed]",
            "text/plain": [
              "<Figure size 576x576 with 2 Axes>"
            ]
          },
          "metadata": {
            "needs_background": "light"
          }
        }
      ]
    },
    {
      "cell_type": "markdown",
      "source": [
        "# HyperTuning\n",
        "Cerchiamo la configurazione migliore del modello attraverso il Keras Tuner.\n"
      ],
      "metadata": {
        "id": "3QO-2wD4EeY_"
      }
    },
    {
      "cell_type": "markdown",
      "source": [
        "## Prima fase\n",
        "Cerchiamo i migliori valori per:\n",
        "- Percentuale Dropout\n",
        "- Ottimizzatore"
      ],
      "metadata": {
        "id": "bKJtxx2WX0Bk"
      }
    },
    {
      "cell_type": "code",
      "source": [
        "def model_builder(hp):\n",
        "\n",
        "  \n",
        "  # Tune the amount of Droput\n",
        "  # Choose an optimal value between 0.1-0.3\n",
        "  hp_dropout = hp.Choice('dropout', values=[1e-1, 2e-1, 3e-1])\n",
        "\n",
        "\n",
        "  model = Sequential([\n",
        "  data_augmentation,\n",
        "  layers.Rescaling(1./255),\n",
        "  layers.Conv2D(16, 3, padding='same', activation='relu'),\n",
        "  layers.MaxPooling2D(),\n",
        "  layers.Conv2D(32, 3, padding='same', activation='relu'),\n",
        "  layers.MaxPooling2D(),\n",
        "  layers.Conv2D(64, 3, padding='same', activation='relu'),\n",
        "  layers.MaxPooling2D(),\n",
        "  layers.Conv2D(128, 3, padding='same', activation='relu'),\n",
        "  layers.MaxPooling2D(),\n",
        "  layers.Dropout(hp_dropout),\n",
        "  layers.Flatten(),\n",
        "  layers.Dense(128, activation='relu'),\n",
        "  layers.Dense(num_classes)\n",
        "  ])\n",
        "\n",
        "  #Tune the optimizer\n",
        "  hp_optimizer = hp.Choice('optimizer', values=['Adam', 'Nadam', 'SGD', 'Adamax', 'RMSprop'])\n",
        "\n",
        "  model.compile(optimizer=hp_optimizer,\n",
        "                loss=keras.losses.SparseCategoricalCrossentropy(from_logits=True),\n",
        "                metrics=['accuracy'])\n",
        "\n",
        "  return model"
      ],
      "metadata": {
        "id": "JUAD8hJqEjM0"
      },
      "execution_count": null,
      "outputs": []
    },
    {
      "cell_type": "code",
      "source": [
        "tuner = kt.Hyperband(model_builder,\n",
        "                     objective='val_accuracy',\n",
        "                     max_epochs=50,\n",
        "                     factor=3,\n",
        "                     seed=42,\n",
        "                     directory='tuning_logs',\n",
        "                     project_name='junk_classification')"
      ],
      "metadata": {
        "id": "WUsJSJCWE9bV"
      },
      "execution_count": null,
      "outputs": []
    },
    {
      "cell_type": "code",
      "source": [
        "stop_early = tf.keras.callbacks.EarlyStopping(monitor='val_loss', patience=5)"
      ],
      "metadata": {
        "id": "d2XNMSWPG-Vc"
      },
      "execution_count": null,
      "outputs": []
    },
    {
      "cell_type": "code",
      "source": [
        "tuner.search(train_ds, validation_data=val_ds, epochs=75, callbacks=[stop_early])\n",
        "\n",
        "# Get the optimal hyperparameters\n",
        "best_hps=tuner.get_best_hyperparameters()[0]\n",
        "\n",
        "print(f\"\"\"\n",
        "The hyperparameter search is complete. The optimal number for Dropout is {best_hps.get('dropout')} and the best optimizer\n",
        "is {best_hps.get('optimizer')}.\n",
        "\"\"\")"
      ],
      "metadata": {
        "colab": {
          "base_uri": "https://localhost:8080/"
        },
        "id": "m8dD1DRjHC2C",
        "outputId": "35b03c23-cb85-4e02-f9c8-855b0f4c9e4c"
      },
      "execution_count": null,
      "outputs": [
        {
          "output_type": "stream",
          "name": "stdout",
          "text": [
            "Trial 15 Complete [00h 00m 19s]\n",
            "val_accuracy: 0.28910890221595764\n",
            "\n",
            "Best val_accuracy So Far: 0.500990092754364\n",
            "Total elapsed time: 00h 05m 14s\n",
            "INFO:tensorflow:Oracle triggered exit\n",
            "\n",
            "The hyperparameter search is complete. The optimal number for Dropout is 0.2 and the best optimizer\n",
            "is Adamax.\n",
            "\n"
          ]
        }
      ]
    },
    {
      "cell_type": "markdown",
      "source": [
        "## Seconda Fase\n",
        "Eseguiamo ora una nuova ricerca, in uno spazio diverso di iperparametri. Cerchiamo:\n",
        "* Numero di unità nell'ultimo layer denso\n",
        "* Learning rate dell'ottimizzatore Adamax, risultato della ricerca precedente"
      ],
      "metadata": {
        "id": "ZhK7edCZU6Ga"
      }
    },
    {
      "cell_type": "code",
      "source": [
        "def model_builder(hp):\n",
        "\n",
        "  # hp_dropout = best_hps.get('dropout')\n",
        "  hp_dropout = 0.2\n",
        "  hp_units=hp.Int(\"units\", min_value=32, max_value=512, step=32)\n",
        "\n",
        "  model = Sequential([\n",
        "  data_augmentation,\n",
        "  layers.Rescaling(1./255),\n",
        "  layers.Conv2D(16, 3, padding='same', activation='relu'),\n",
        "  layers.MaxPooling2D(),\n",
        "  layers.Conv2D(32, 3, padding='same', activation='relu'),\n",
        "  layers.MaxPooling2D(),\n",
        "  layers.Conv2D(64, 3, padding='same', activation='relu'),\n",
        "  layers.MaxPooling2D(),\n",
        "  layers.Conv2D(128, 3, padding='same', activation='relu'),\n",
        "  layers.MaxPooling2D(),\n",
        "  layers.Dropout(hp_dropout),\n",
        "  layers.Flatten(),\n",
        "  layers.Dense(hp_units, activation='relu'),\n",
        "  layers.Dense(num_classes)\n",
        "  ])\n",
        "\n",
        "  # Tune the learning rate for the optimizer\n",
        "  # Choose an optimal value from 0.01, 0.001, or 0.0001\n",
        "  \n",
        "  hp_learning_rate = hp.Choice('learning_rate', values=[1e-2, 1e-3, 1e-4])\n",
        "\n",
        "  model.compile(optimizer=tf.keras.optimizers.Adamax(learning_rate=hp_learning_rate),\n",
        "                loss=keras.losses.SparseCategoricalCrossentropy(from_logits=True),\n",
        "                metrics=['accuracy'])\n",
        "\n",
        "  return model"
      ],
      "metadata": {
        "id": "B1eAlE7fTs3P"
      },
      "execution_count": null,
      "outputs": []
    },
    {
      "cell_type": "code",
      "source": [
        "!rm -r tuning_logs"
      ],
      "metadata": {
        "id": "1yeS3gRsVS_z"
      },
      "execution_count": null,
      "outputs": []
    },
    {
      "cell_type": "code",
      "source": [
        "tuner = kt.Hyperband(model_builder,\n",
        "                     objective='val_accuracy',\n",
        "                     max_epochs=20,\n",
        "                     factor=3,\n",
        "                     seed=42,\n",
        "                     directory='tuning_logs',\n",
        "                     project_name='junk_classification')"
      ],
      "metadata": {
        "id": "VBo-fbvAVtkY"
      },
      "execution_count": null,
      "outputs": []
    },
    {
      "cell_type": "code",
      "source": [
        "tuner.search(train_ds, validation_data=val_ds, epochs=50, callbacks=[stop_early])"
      ],
      "metadata": {
        "id": "MuTAcycQVy0Z",
        "colab": {
          "base_uri": "https://localhost:8080/"
        },
        "outputId": "4d7eb93c-4fcf-44a9-c6f3-7809fbb26015"
      },
      "execution_count": null,
      "outputs": [
        {
          "output_type": "stream",
          "name": "stdout",
          "text": [
            "Trial 30 Complete [00h 06m 03s]\n",
            "val_accuracy: 0.5801980495452881\n",
            "\n",
            "Best val_accuracy So Far: 0.6732673048973083\n",
            "Total elapsed time: 01h 12m 42s\n",
            "INFO:tensorflow:Oracle triggered exit\n"
          ]
        }
      ]
    },
    {
      "cell_type": "code",
      "source": [
        "# Get the optimal hyperparameters\n",
        "best_hps=tuner.get_best_hyperparameters()[0]\n",
        "\n",
        "print(f\"\"\"\n",
        "The hyperparameter search is complete. The optimal number for last Dense Layer units is {best_hps.get('units')} and the best learning rate for the optimizer\n",
        "is {best_hps.get('learning_rate')}.\n",
        "\"\"\")"
      ],
      "metadata": {
        "colab": {
          "base_uri": "https://localhost:8080/"
        },
        "id": "OuLwzFDpAMXi",
        "outputId": "cb72bcea-500f-45b2-eb2b-2fd31d176755"
      },
      "execution_count": null,
      "outputs": [
        {
          "output_type": "stream",
          "name": "stdout",
          "text": [
            "\n",
            "The hyperparameter search is complete. The optimal number for last Dense Layer units is 480 and the best learning rate for the optimizer\n",
            "is 0.001.\n",
            "\n"
          ]
        }
      ]
    },
    {
      "cell_type": "code",
      "source": [
        "!rm -r tuning_logs"
      ],
      "metadata": {
        "id": "ESRqoy40xGtw"
      },
      "execution_count": null,
      "outputs": []
    },
    {
      "cell_type": "markdown",
      "source": [
        "## Best Model"
      ],
      "metadata": {
        "id": "32oN4bKiUwSd"
      }
    },
    {
      "cell_type": "markdown",
      "source": [
        "Cerchiamo ora il miglior numero di epoche per bilanciare il modello, scegliendo come max 75 epoche"
      ],
      "metadata": {
        "id": "80qJHWcX1rYi"
      }
    },
    {
      "cell_type": "code",
      "source": [
        "# Build the model with the optimal hyperparameters and train it on the data for 75 epochs\n",
        "model = tuner.hypermodel.build(best_hps)\n",
        "\n",
        "history = model.fit(train_ds, validation_data=val_ds, epochs=75)"
      ],
      "metadata": {
        "colab": {
          "base_uri": "https://localhost:8080/"
        },
        "id": "NkI5R-siQkh9",
        "outputId": "2d279104-77de-440f-a449-cafa5b29528c"
      },
      "execution_count": null,
      "outputs": [
        {
          "output_type": "stream",
          "name": "stdout",
          "text": [
            "Epoch 1/75\n",
            "64/64 [==============================] - 19s 273ms/step - loss: 2.0222 - accuracy: 0.2720 - val_loss: 1.5501 - val_accuracy: 0.3109\n",
            "Epoch 2/75\n",
            "64/64 [==============================] - 17s 270ms/step - loss: 1.4640 - accuracy: 0.4026 - val_loss: 1.3624 - val_accuracy: 0.4455\n",
            "Epoch 3/75\n",
            "64/64 [==============================] - 17s 271ms/step - loss: 1.3609 - accuracy: 0.4436 - val_loss: 1.2965 - val_accuracy: 0.5050\n",
            "Epoch 4/75\n",
            "64/64 [==============================] - 17s 271ms/step - loss: 1.3015 - accuracy: 0.4718 - val_loss: 1.3572 - val_accuracy: 0.4931\n",
            "Epoch 5/75\n",
            "64/64 [==============================] - 17s 273ms/step - loss: 1.2533 - accuracy: 0.5049 - val_loss: 1.1865 - val_accuracy: 0.5683\n",
            "Epoch 6/75\n",
            "64/64 [==============================] - 18s 273ms/step - loss: 1.2321 - accuracy: 0.5232 - val_loss: 1.1533 - val_accuracy: 0.5366\n",
            "Epoch 7/75\n",
            "64/64 [==============================] - 17s 271ms/step - loss: 1.1970 - accuracy: 0.5312 - val_loss: 1.1262 - val_accuracy: 0.5525\n",
            "Epoch 8/75\n",
            "64/64 [==============================] - 17s 273ms/step - loss: 1.1498 - accuracy: 0.5608 - val_loss: 1.1516 - val_accuracy: 0.5465\n",
            "Epoch 9/75\n",
            "64/64 [==============================] - 17s 271ms/step - loss: 1.1554 - accuracy: 0.5549 - val_loss: 1.0990 - val_accuracy: 0.5743\n",
            "Epoch 10/75\n",
            "64/64 [==============================] - 17s 272ms/step - loss: 1.1041 - accuracy: 0.5900 - val_loss: 1.0362 - val_accuracy: 0.6139\n",
            "Epoch 11/75\n",
            "64/64 [==============================] - 17s 271ms/step - loss: 1.0648 - accuracy: 0.6009 - val_loss: 1.0330 - val_accuracy: 0.6139\n",
            "Epoch 12/75\n",
            "64/64 [==============================] - 17s 271ms/step - loss: 1.0357 - accuracy: 0.6073 - val_loss: 1.0744 - val_accuracy: 0.6238\n",
            "Epoch 13/75\n",
            "64/64 [==============================] - 18s 273ms/step - loss: 1.0422 - accuracy: 0.6068 - val_loss: 0.9435 - val_accuracy: 0.6515\n",
            "Epoch 14/75\n",
            "64/64 [==============================] - 17s 273ms/step - loss: 1.0422 - accuracy: 0.6093 - val_loss: 0.9910 - val_accuracy: 0.6475\n",
            "Epoch 15/75\n",
            "64/64 [==============================] - 18s 276ms/step - loss: 0.9671 - accuracy: 0.6360 - val_loss: 0.9045 - val_accuracy: 0.6594\n",
            "Epoch 16/75\n",
            "64/64 [==============================] - 17s 272ms/step - loss: 0.9643 - accuracy: 0.6464 - val_loss: 0.9454 - val_accuracy: 0.6614\n",
            "Epoch 17/75\n",
            "64/64 [==============================] - 17s 272ms/step - loss: 0.9128 - accuracy: 0.6607 - val_loss: 0.8807 - val_accuracy: 0.6792\n",
            "Epoch 18/75\n",
            "64/64 [==============================] - 18s 274ms/step - loss: 0.9008 - accuracy: 0.6746 - val_loss: 0.9394 - val_accuracy: 0.6614\n",
            "Epoch 19/75\n",
            "64/64 [==============================] - 17s 272ms/step - loss: 0.8987 - accuracy: 0.6711 - val_loss: 0.8600 - val_accuracy: 0.6812\n",
            "Epoch 20/75\n",
            "64/64 [==============================] - 17s 273ms/step - loss: 0.8844 - accuracy: 0.6766 - val_loss: 0.8482 - val_accuracy: 0.6693\n",
            "Epoch 21/75\n",
            "64/64 [==============================] - 17s 271ms/step - loss: 0.8783 - accuracy: 0.6756 - val_loss: 0.8757 - val_accuracy: 0.6653\n",
            "Epoch 22/75\n",
            "64/64 [==============================] - 17s 272ms/step - loss: 0.8578 - accuracy: 0.6869 - val_loss: 0.8256 - val_accuracy: 0.6950\n",
            "Epoch 23/75\n",
            "64/64 [==============================] - 17s 273ms/step - loss: 0.8405 - accuracy: 0.6958 - val_loss: 0.9564 - val_accuracy: 0.6337\n",
            "Epoch 24/75\n",
            "64/64 [==============================] - 17s 272ms/step - loss: 0.8088 - accuracy: 0.7087 - val_loss: 0.8737 - val_accuracy: 0.6733\n",
            "Epoch 25/75\n",
            "64/64 [==============================] - 17s 270ms/step - loss: 0.7915 - accuracy: 0.7235 - val_loss: 0.8028 - val_accuracy: 0.6970\n",
            "Epoch 26/75\n",
            "64/64 [==============================] - 17s 272ms/step - loss: 0.7860 - accuracy: 0.7038 - val_loss: 0.7879 - val_accuracy: 0.7129\n",
            "Epoch 27/75\n",
            "64/64 [==============================] - 17s 271ms/step - loss: 0.7508 - accuracy: 0.7305 - val_loss: 0.8100 - val_accuracy: 0.6931\n",
            "Epoch 28/75\n",
            "64/64 [==============================] - 17s 271ms/step - loss: 0.8010 - accuracy: 0.7018 - val_loss: 0.8583 - val_accuracy: 0.6891\n",
            "Epoch 29/75\n",
            "64/64 [==============================] - 18s 273ms/step - loss: 0.7524 - accuracy: 0.7404 - val_loss: 0.8114 - val_accuracy: 0.6812\n",
            "Epoch 30/75\n",
            "64/64 [==============================] - 17s 272ms/step - loss: 0.7415 - accuracy: 0.7364 - val_loss: 0.7885 - val_accuracy: 0.6990\n",
            "Epoch 31/75\n",
            "64/64 [==============================] - 17s 271ms/step - loss: 0.7237 - accuracy: 0.7379 - val_loss: 0.7222 - val_accuracy: 0.7248\n",
            "Epoch 32/75\n",
            "64/64 [==============================] - 17s 272ms/step - loss: 0.7130 - accuracy: 0.7399 - val_loss: 0.7640 - val_accuracy: 0.7030\n",
            "Epoch 33/75\n",
            "64/64 [==============================] - 17s 272ms/step - loss: 0.7165 - accuracy: 0.7404 - val_loss: 0.7042 - val_accuracy: 0.7386\n",
            "Epoch 34/75\n",
            "64/64 [==============================] - 17s 273ms/step - loss: 0.6554 - accuracy: 0.7532 - val_loss: 0.6942 - val_accuracy: 0.7644\n",
            "Epoch 35/75\n",
            "64/64 [==============================] - 17s 272ms/step - loss: 0.6797 - accuracy: 0.7596 - val_loss: 0.6616 - val_accuracy: 0.7743\n",
            "Epoch 36/75\n",
            "64/64 [==============================] - 17s 271ms/step - loss: 0.6626 - accuracy: 0.7572 - val_loss: 0.7060 - val_accuracy: 0.7386\n",
            "Epoch 37/75\n",
            "64/64 [==============================] - 17s 272ms/step - loss: 0.6648 - accuracy: 0.7547 - val_loss: 0.6437 - val_accuracy: 0.7505\n",
            "Epoch 38/75\n",
            "64/64 [==============================] - 18s 274ms/step - loss: 0.6142 - accuracy: 0.7715 - val_loss: 0.6152 - val_accuracy: 0.7861\n",
            "Epoch 39/75\n",
            "64/64 [==============================] - 17s 272ms/step - loss: 0.5988 - accuracy: 0.7854 - val_loss: 0.6769 - val_accuracy: 0.7743\n",
            "Epoch 40/75\n",
            "64/64 [==============================] - 17s 272ms/step - loss: 0.6485 - accuracy: 0.7631 - val_loss: 0.7100 - val_accuracy: 0.7426\n",
            "Epoch 41/75\n",
            "64/64 [==============================] - 17s 272ms/step - loss: 0.5751 - accuracy: 0.7878 - val_loss: 0.6510 - val_accuracy: 0.7505\n",
            "Epoch 42/75\n",
            "64/64 [==============================] - 17s 271ms/step - loss: 0.5895 - accuracy: 0.7878 - val_loss: 0.6971 - val_accuracy: 0.7584\n",
            "Epoch 43/75\n",
            "64/64 [==============================] - 17s 272ms/step - loss: 0.5797 - accuracy: 0.7938 - val_loss: 0.6432 - val_accuracy: 0.7545\n",
            "Epoch 44/75\n",
            "64/64 [==============================] - 17s 271ms/step - loss: 0.5913 - accuracy: 0.7774 - val_loss: 0.6953 - val_accuracy: 0.7426\n",
            "Epoch 45/75\n",
            "64/64 [==============================] - 17s 272ms/step - loss: 0.5563 - accuracy: 0.7982 - val_loss: 0.6205 - val_accuracy: 0.7723\n",
            "Epoch 46/75\n",
            "64/64 [==============================] - 17s 274ms/step - loss: 0.5503 - accuracy: 0.8042 - val_loss: 0.7076 - val_accuracy: 0.7287\n",
            "Epoch 47/75\n",
            "64/64 [==============================] - 17s 272ms/step - loss: 0.5512 - accuracy: 0.7898 - val_loss: 0.6041 - val_accuracy: 0.7901\n",
            "Epoch 48/75\n",
            "64/64 [==============================] - 17s 271ms/step - loss: 0.5279 - accuracy: 0.8002 - val_loss: 0.7138 - val_accuracy: 0.7584\n",
            "Epoch 49/75\n",
            "64/64 [==============================] - 17s 271ms/step - loss: 0.5167 - accuracy: 0.8111 - val_loss: 0.7031 - val_accuracy: 0.7644\n",
            "Epoch 50/75\n",
            "64/64 [==============================] - 17s 272ms/step - loss: 0.4940 - accuracy: 0.8239 - val_loss: 0.6478 - val_accuracy: 0.7762\n",
            "Epoch 51/75\n",
            "64/64 [==============================] - 17s 271ms/step - loss: 0.5252 - accuracy: 0.8096 - val_loss: 0.6220 - val_accuracy: 0.7703\n",
            "Epoch 52/75\n",
            "64/64 [==============================] - 17s 272ms/step - loss: 0.4816 - accuracy: 0.8225 - val_loss: 0.6683 - val_accuracy: 0.7584\n",
            "Epoch 53/75\n",
            "64/64 [==============================] - 18s 273ms/step - loss: 0.5041 - accuracy: 0.8076 - val_loss: 0.7491 - val_accuracy: 0.7267\n",
            "Epoch 54/75\n",
            "64/64 [==============================] - 17s 274ms/step - loss: 0.4871 - accuracy: 0.8140 - val_loss: 0.6473 - val_accuracy: 0.7743\n",
            "Epoch 55/75\n",
            "64/64 [==============================] - 17s 272ms/step - loss: 0.4865 - accuracy: 0.8170 - val_loss: 0.6872 - val_accuracy: 0.7723\n",
            "Epoch 56/75\n",
            "64/64 [==============================] - 17s 273ms/step - loss: 0.4755 - accuracy: 0.8220 - val_loss: 0.6069 - val_accuracy: 0.7921\n",
            "Epoch 57/75\n",
            "64/64 [==============================] - 17s 272ms/step - loss: 0.4745 - accuracy: 0.8264 - val_loss: 0.5769 - val_accuracy: 0.8040\n",
            "Epoch 58/75\n",
            "64/64 [==============================] - 17s 273ms/step - loss: 0.4249 - accuracy: 0.8447 - val_loss: 0.7068 - val_accuracy: 0.7564\n",
            "Epoch 59/75\n",
            "64/64 [==============================] - 17s 272ms/step - loss: 0.4374 - accuracy: 0.8363 - val_loss: 0.6153 - val_accuracy: 0.7941\n",
            "Epoch 60/75\n",
            "64/64 [==============================] - 17s 273ms/step - loss: 0.4372 - accuracy: 0.8457 - val_loss: 0.6322 - val_accuracy: 0.7842\n",
            "Epoch 61/75\n",
            "64/64 [==============================] - 17s 273ms/step - loss: 0.3752 - accuracy: 0.8630 - val_loss: 0.6249 - val_accuracy: 0.7842\n",
            "Epoch 62/75\n",
            "64/64 [==============================] - 18s 274ms/step - loss: 0.3905 - accuracy: 0.8620 - val_loss: 0.6068 - val_accuracy: 0.7881\n",
            "Epoch 63/75\n",
            "64/64 [==============================] - 18s 274ms/step - loss: 0.3791 - accuracy: 0.8591 - val_loss: 0.5536 - val_accuracy: 0.8139\n",
            "Epoch 64/75\n",
            "64/64 [==============================] - 17s 271ms/step - loss: 0.4084 - accuracy: 0.8378 - val_loss: 0.6143 - val_accuracy: 0.7941\n",
            "Epoch 65/75\n",
            "64/64 [==============================] - 17s 272ms/step - loss: 0.3736 - accuracy: 0.8630 - val_loss: 0.5854 - val_accuracy: 0.8059\n",
            "Epoch 66/75\n",
            "64/64 [==============================] - 18s 274ms/step - loss: 0.3545 - accuracy: 0.8739 - val_loss: 0.6115 - val_accuracy: 0.7941\n",
            "Epoch 67/75\n",
            "64/64 [==============================] - 17s 273ms/step - loss: 0.3606 - accuracy: 0.8665 - val_loss: 0.6231 - val_accuracy: 0.7901\n",
            "Epoch 68/75\n",
            "64/64 [==============================] - 17s 273ms/step - loss: 0.3584 - accuracy: 0.8759 - val_loss: 0.5996 - val_accuracy: 0.8020\n",
            "Epoch 69/75\n",
            "64/64 [==============================] - 17s 272ms/step - loss: 0.3600 - accuracy: 0.8670 - val_loss: 0.5900 - val_accuracy: 0.8119\n",
            "Epoch 70/75\n",
            "64/64 [==============================] - 18s 273ms/step - loss: 0.3103 - accuracy: 0.8877 - val_loss: 0.6212 - val_accuracy: 0.8218\n",
            "Epoch 71/75\n",
            "64/64 [==============================] - 17s 272ms/step - loss: 0.3645 - accuracy: 0.8689 - val_loss: 0.6068 - val_accuracy: 0.8139\n",
            "Epoch 72/75\n",
            "64/64 [==============================] - 17s 272ms/step - loss: 0.3086 - accuracy: 0.8867 - val_loss: 0.5761 - val_accuracy: 0.8040\n",
            "Epoch 73/75\n",
            "64/64 [==============================] - 18s 273ms/step - loss: 0.3296 - accuracy: 0.8843 - val_loss: 0.6642 - val_accuracy: 0.7901\n",
            "Epoch 74/75\n",
            "64/64 [==============================] - 18s 275ms/step - loss: 0.3390 - accuracy: 0.8773 - val_loss: 0.6219 - val_accuracy: 0.8139\n",
            "Epoch 75/75\n",
            "64/64 [==============================] - 17s 271ms/step - loss: 0.2848 - accuracy: 0.8932 - val_loss: 0.6250 - val_accuracy: 0.8040\n",
            "Best epoch: 70\n"
          ]
        }
      ]
    },
    {
      "cell_type": "code",
      "source": [
        "val_loss_per_epoch = history.history['val_loss']\n",
        "best_epoch_loss = val_loss_per_epoch.index(min(val_loss_per_epoch)) + 1\n",
        "print('Best epoch by val_loss: %d' % (best_epoch_loss,))\n",
        "\n",
        "\n",
        "val_acc_per_epoch = history.history['val_accuracy']\n",
        "best_epoch_acc = val_acc_per_epoch.index(max(val_acc_per_epoch)) + 1\n",
        "print('Best epoch by val_accuracy: %d' % (best_epoch_acc,))\n",
        "\n",
        "print('Model Results')\n",
        "print_results(history,75)"
      ],
      "metadata": {
        "colab": {
          "base_uri": "https://localhost:8080/",
          "height": 551
        },
        "id": "ufNdHzs0a2AF",
        "outputId": "6e81fad3-5e50-4023-e8be-3573f94aabfc"
      },
      "execution_count": null,
      "outputs": [
        {
          "output_type": "stream",
          "name": "stdout",
          "text": [
            "Best epoch by val_loss: 63\n",
            "Best epoch by val_accuracy: 70\n",
            "Model Results\n"
          ]
        },
        {
          "output_type": "display_data",
          "data": {
            "image/png": "[encoded data removed]",
            "text/plain": [
              "<Figure size 576x576 with 2 Axes>"
            ]
          },
          "metadata": {
            "needs_background": "light"
          }
        }
      ]
    },
    {
      "cell_type": "markdown",
      "source": [
        "# Configurazione Finale\n",
        "Alleniamo il modello finale, dopo aver individuato il numero ottimale di epoche.\n",
        "Salviamo il modello per esportarlo e mostriamo la performance in fase di prediction."
      ],
      "metadata": {
        "id": "z0FMfwyQigjQ"
      }
    },
    {
      "cell_type": "code",
      "source": [
        "# hypermodel = tuner.hypermodel.build(best_hps)\n",
        "\n",
        "hypermodel = Sequential([\n",
        "  data_augmentation,\n",
        "  layers.Rescaling(1./255),\n",
        "  layers.Conv2D(16, 3, padding='same', activation='relu'),\n",
        "  layers.MaxPooling2D(),\n",
        "  layers.Conv2D(32, 3, padding='same', activation='relu'),\n",
        "  layers.MaxPooling2D(),\n",
        "  layers.Conv2D(64, 3, padding='same', activation='relu'),\n",
        "  layers.MaxPooling2D(),\n",
        "  layers.Conv2D(128, 3, padding='same', activation='relu'),\n",
        "  layers.MaxPooling2D(),\n",
        "  layers.Dropout(0.2),\n",
        "  layers.Flatten(),\n",
        "  layers.Dense(480, activation='relu'),\n",
        "  layers.Dense(num_classes)\n",
        "  ])\n",
        "\n",
        "hypermodel.compile(optimizer=tf.keras.optimizers.Adamax(learning_rate=0.001),\n",
        "loss=keras.losses.SparseCategoricalCrossentropy(from_logits=True),\n",
        "                metrics=['accuracy'])\n",
        "\n",
        "# Retrain the model\n",
        "hyper_history = hypermodel.fit(train_ds, validation_data=val_ds, epochs=63)"
      ],
      "metadata": {
        "id": "CWX6HclwRJ_B",
        "colab": {
          "base_uri": "https://localhost:8080/"
        },
        "outputId": "9f317c6a-7737-4f9d-cd2a-3bc42b0504ba"
      },
      "execution_count": 17,
      "outputs": [
        {
          "output_type": "stream",
          "name": "stdout",
          "text": [
            "Epoch 1/63\n",
            "64/64 [==============================] - 40s 335ms/step - loss: 2.1797 - accuracy: 0.3378 - val_loss: 1.3648 - val_accuracy: 0.4891\n",
            "Epoch 2/63\n",
            "64/64 [==============================] - 18s 286ms/step - loss: 1.3503 - accuracy: 0.4471 - val_loss: 1.2549 - val_accuracy: 0.5089\n",
            "Epoch 3/63\n",
            "64/64 [==============================] - 18s 286ms/step - loss: 1.2537 - accuracy: 0.5020 - val_loss: 1.2308 - val_accuracy: 0.4970\n",
            "Epoch 4/63\n",
            "64/64 [==============================] - 18s 285ms/step - loss: 1.1874 - accuracy: 0.5420 - val_loss: 1.0908 - val_accuracy: 0.5703\n",
            "Epoch 5/63\n",
            "64/64 [==============================] - 18s 285ms/step - loss: 1.1477 - accuracy: 0.5593 - val_loss: 1.1145 - val_accuracy: 0.5921\n",
            "Epoch 6/63\n",
            "64/64 [==============================] - 18s 286ms/step - loss: 1.1232 - accuracy: 0.5603 - val_loss: 1.0875 - val_accuracy: 0.5822\n",
            "Epoch 7/63\n",
            "64/64 [==============================] - 18s 284ms/step - loss: 1.0748 - accuracy: 0.5890 - val_loss: 1.0282 - val_accuracy: 0.6099\n",
            "Epoch 8/63\n",
            "64/64 [==============================] - 18s 286ms/step - loss: 1.0671 - accuracy: 0.6014 - val_loss: 1.0325 - val_accuracy: 0.6000\n",
            "Epoch 9/63\n",
            "64/64 [==============================] - 18s 285ms/step - loss: 1.0346 - accuracy: 0.6073 - val_loss: 0.9756 - val_accuracy: 0.6455\n",
            "Epoch 10/63\n",
            "64/64 [==============================] - 18s 286ms/step - loss: 1.0285 - accuracy: 0.6098 - val_loss: 0.9676 - val_accuracy: 0.6257\n",
            "Epoch 11/63\n",
            "64/64 [==============================] - 18s 285ms/step - loss: 0.9680 - accuracy: 0.6409 - val_loss: 0.9606 - val_accuracy: 0.6297\n",
            "Epoch 12/63\n",
            "64/64 [==============================] - 18s 285ms/step - loss: 0.9650 - accuracy: 0.6424 - val_loss: 0.9191 - val_accuracy: 0.6515\n",
            "Epoch 13/63\n",
            "64/64 [==============================] - 18s 285ms/step - loss: 0.9681 - accuracy: 0.6489 - val_loss: 1.0045 - val_accuracy: 0.6376\n",
            "Epoch 14/63\n",
            "64/64 [==============================] - 18s 284ms/step - loss: 0.9319 - accuracy: 0.6583 - val_loss: 0.9144 - val_accuracy: 0.6455\n",
            "Epoch 15/63\n",
            "64/64 [==============================] - 18s 285ms/step - loss: 0.9148 - accuracy: 0.6622 - val_loss: 0.9004 - val_accuracy: 0.6614\n",
            "Epoch 16/63\n",
            "64/64 [==============================] - 18s 284ms/step - loss: 0.8755 - accuracy: 0.6736 - val_loss: 0.9263 - val_accuracy: 0.6198\n",
            "Epoch 17/63\n",
            "64/64 [==============================] - 18s 285ms/step - loss: 0.8998 - accuracy: 0.6617 - val_loss: 0.8662 - val_accuracy: 0.6990\n",
            "Epoch 18/63\n",
            "64/64 [==============================] - 18s 285ms/step - loss: 0.8593 - accuracy: 0.6924 - val_loss: 0.8668 - val_accuracy: 0.6891\n",
            "Epoch 19/63\n",
            "64/64 [==============================] - 18s 285ms/step - loss: 0.8350 - accuracy: 0.6973 - val_loss: 0.8418 - val_accuracy: 0.6990\n",
            "Epoch 20/63\n",
            "64/64 [==============================] - 18s 284ms/step - loss: 0.8613 - accuracy: 0.6780 - val_loss: 0.9421 - val_accuracy: 0.6713\n",
            "Epoch 21/63\n",
            "64/64 [==============================] - 18s 285ms/step - loss: 0.8342 - accuracy: 0.6914 - val_loss: 0.8666 - val_accuracy: 0.6891\n",
            "Epoch 22/63\n",
            "64/64 [==============================] - 18s 288ms/step - loss: 0.8029 - accuracy: 0.7008 - val_loss: 0.8222 - val_accuracy: 0.7168\n",
            "Epoch 23/63\n",
            "64/64 [==============================] - 18s 284ms/step - loss: 0.7951 - accuracy: 0.7097 - val_loss: 0.8435 - val_accuracy: 0.6653\n",
            "Epoch 24/63\n",
            "64/64 [==============================] - 18s 285ms/step - loss: 0.7740 - accuracy: 0.7146 - val_loss: 0.7891 - val_accuracy: 0.7109\n",
            "Epoch 25/63\n",
            "64/64 [==============================] - 18s 284ms/step - loss: 0.7632 - accuracy: 0.7211 - val_loss: 0.8027 - val_accuracy: 0.7149\n",
            "Epoch 26/63\n",
            "64/64 [==============================] - 18s 285ms/step - loss: 0.7465 - accuracy: 0.7285 - val_loss: 0.8390 - val_accuracy: 0.7267\n",
            "Epoch 27/63\n",
            "64/64 [==============================] - 18s 286ms/step - loss: 0.7456 - accuracy: 0.7265 - val_loss: 0.7985 - val_accuracy: 0.7248\n",
            "Epoch 28/63\n",
            "64/64 [==============================] - 18s 285ms/step - loss: 0.7480 - accuracy: 0.7260 - val_loss: 0.7960 - val_accuracy: 0.7050\n",
            "Epoch 29/63\n",
            "64/64 [==============================] - 18s 285ms/step - loss: 0.7264 - accuracy: 0.7364 - val_loss: 0.7831 - val_accuracy: 0.7287\n",
            "Epoch 30/63\n",
            "64/64 [==============================] - 18s 285ms/step - loss: 0.6810 - accuracy: 0.7433 - val_loss: 0.7977 - val_accuracy: 0.7168\n",
            "Epoch 31/63\n",
            "64/64 [==============================] - 18s 285ms/step - loss: 0.7124 - accuracy: 0.7389 - val_loss: 0.7494 - val_accuracy: 0.7208\n",
            "Epoch 32/63\n",
            "64/64 [==============================] - 18s 285ms/step - loss: 0.6945 - accuracy: 0.7512 - val_loss: 0.8201 - val_accuracy: 0.6990\n",
            "Epoch 33/63\n",
            "64/64 [==============================] - 19s 293ms/step - loss: 0.6895 - accuracy: 0.7374 - val_loss: 0.7936 - val_accuracy: 0.7188\n",
            "Epoch 34/63\n",
            "64/64 [==============================] - 18s 285ms/step - loss: 0.6617 - accuracy: 0.7591 - val_loss: 0.7244 - val_accuracy: 0.7386\n",
            "Epoch 35/63\n",
            "64/64 [==============================] - 18s 285ms/step - loss: 0.6656 - accuracy: 0.7537 - val_loss: 0.7995 - val_accuracy: 0.7188\n",
            "Epoch 36/63\n",
            "64/64 [==============================] - 18s 284ms/step - loss: 0.6342 - accuracy: 0.7631 - val_loss: 0.6874 - val_accuracy: 0.7505\n",
            "Epoch 37/63\n",
            "64/64 [==============================] - 18s 284ms/step - loss: 0.6274 - accuracy: 0.7671 - val_loss: 0.6948 - val_accuracy: 0.7564\n",
            "Epoch 38/63\n",
            "64/64 [==============================] - 18s 284ms/step - loss: 0.6181 - accuracy: 0.7814 - val_loss: 0.6928 - val_accuracy: 0.7663\n",
            "Epoch 39/63\n",
            "64/64 [==============================] - 18s 285ms/step - loss: 0.6268 - accuracy: 0.7681 - val_loss: 0.7525 - val_accuracy: 0.7485\n",
            "Epoch 40/63\n",
            "64/64 [==============================] - 18s 285ms/step - loss: 0.5956 - accuracy: 0.7705 - val_loss: 0.7019 - val_accuracy: 0.7723\n",
            "Epoch 41/63\n",
            "64/64 [==============================] - 18s 285ms/step - loss: 0.5849 - accuracy: 0.7834 - val_loss: 0.7137 - val_accuracy: 0.7485\n",
            "Epoch 42/63\n",
            "64/64 [==============================] - 18s 285ms/step - loss: 0.6007 - accuracy: 0.7789 - val_loss: 0.6730 - val_accuracy: 0.7861\n",
            "Epoch 43/63\n",
            "64/64 [==============================] - 18s 285ms/step - loss: 0.5279 - accuracy: 0.8131 - val_loss: 0.7278 - val_accuracy: 0.7505\n",
            "Epoch 44/63\n",
            "64/64 [==============================] - 18s 284ms/step - loss: 0.5758 - accuracy: 0.7878 - val_loss: 0.7053 - val_accuracy: 0.7426\n",
            "Epoch 45/63\n",
            "64/64 [==============================] - 18s 285ms/step - loss: 0.5556 - accuracy: 0.7977 - val_loss: 0.7620 - val_accuracy: 0.7248\n",
            "Epoch 46/63\n",
            "64/64 [==============================] - 18s 285ms/step - loss: 0.6021 - accuracy: 0.7765 - val_loss: 0.7449 - val_accuracy: 0.7683\n",
            "Epoch 47/63\n",
            "64/64 [==============================] - 18s 285ms/step - loss: 0.5217 - accuracy: 0.8037 - val_loss: 0.6852 - val_accuracy: 0.7644\n",
            "Epoch 48/63\n",
            "64/64 [==============================] - 18s 284ms/step - loss: 0.5542 - accuracy: 0.8012 - val_loss: 0.6880 - val_accuracy: 0.7703\n",
            "Epoch 49/63\n",
            "64/64 [==============================] - 18s 284ms/step - loss: 0.5110 - accuracy: 0.8126 - val_loss: 0.6666 - val_accuracy: 0.7604\n",
            "Epoch 50/63\n",
            "64/64 [==============================] - 18s 285ms/step - loss: 0.5290 - accuracy: 0.8022 - val_loss: 0.7159 - val_accuracy: 0.7564\n",
            "Epoch 51/63\n",
            "64/64 [==============================] - 18s 285ms/step - loss: 0.5026 - accuracy: 0.8274 - val_loss: 0.7122 - val_accuracy: 0.7545\n",
            "Epoch 52/63\n",
            "64/64 [==============================] - 18s 285ms/step - loss: 0.4915 - accuracy: 0.8140 - val_loss: 0.7508 - val_accuracy: 0.7446\n",
            "Epoch 53/63\n",
            "64/64 [==============================] - 18s 285ms/step - loss: 0.5176 - accuracy: 0.8091 - val_loss: 0.7036 - val_accuracy: 0.7802\n",
            "Epoch 54/63\n",
            "64/64 [==============================] - 18s 285ms/step - loss: 0.4966 - accuracy: 0.8190 - val_loss: 0.7110 - val_accuracy: 0.7644\n",
            "Epoch 55/63\n",
            "64/64 [==============================] - 18s 284ms/step - loss: 0.4547 - accuracy: 0.8398 - val_loss: 0.6542 - val_accuracy: 0.7683\n",
            "Epoch 56/63\n",
            "64/64 [==============================] - 18s 284ms/step - loss: 0.4385 - accuracy: 0.8417 - val_loss: 0.6822 - val_accuracy: 0.7663\n",
            "Epoch 57/63\n",
            "64/64 [==============================] - 18s 284ms/step - loss: 0.4726 - accuracy: 0.8215 - val_loss: 0.7047 - val_accuracy: 0.7426\n",
            "Epoch 58/63\n",
            "64/64 [==============================] - 18s 284ms/step - loss: 0.4516 - accuracy: 0.8314 - val_loss: 0.6480 - val_accuracy: 0.8020\n",
            "Epoch 59/63\n",
            "64/64 [==============================] - 18s 284ms/step - loss: 0.4824 - accuracy: 0.8210 - val_loss: 0.7589 - val_accuracy: 0.7624\n",
            "Epoch 60/63\n",
            "64/64 [==============================] - 18s 284ms/step - loss: 0.4513 - accuracy: 0.8437 - val_loss: 0.7280 - val_accuracy: 0.7505\n",
            "Epoch 61/63\n",
            "64/64 [==============================] - 18s 284ms/step - loss: 0.4560 - accuracy: 0.8353 - val_loss: 0.6836 - val_accuracy: 0.7743\n",
            "Epoch 62/63\n",
            "64/64 [==============================] - 18s 284ms/step - loss: 0.4339 - accuracy: 0.8492 - val_loss: 0.7446 - val_accuracy: 0.7644\n",
            "Epoch 63/63\n",
            "64/64 [==============================] - 18s 284ms/step - loss: 0.4366 - accuracy: 0.8457 - val_loss: 0.6832 - val_accuracy: 0.7901\n"
          ]
        }
      ]
    },
    {
      "cell_type": "code",
      "source": [
        "print('HModel Results')\n",
        "print_results(hyper_history,63)"
      ],
      "metadata": {
        "id": "sH1GMXaMZF39",
        "colab": {
          "base_uri": "https://localhost:8080/",
          "height": 516
        },
        "outputId": "325c4408-d849-4686-c4c5-4c4fa488b9b6"
      },
      "execution_count": 24,
      "outputs": [
        {
          "output_type": "stream",
          "name": "stdout",
          "text": [
            "HModel Results\n"
          ]
        },
        {
          "output_type": "display_data",
          "data": {
            "image/png": "[encoded data removed]",
            "text/plain": [
              "<Figure size 576x576 with 2 Axes>"
            ]
          },
          "metadata": {
            "needs_background": "light"
          }
        }
      ]
    },
    {
      "cell_type": "markdown",
      "source": [
        "## Salvataggio Modello"
      ],
      "metadata": {
        "id": "7r583FigVleS"
      }
    },
    {
      "cell_type": "code",
      "source": [
        "# Save the entire model to a HDF5 file.\n",
        "# The '.h5' extension indicates that the model should be saved to HDF5.\n",
        "hypermodel.save('junk_class.h5')\n",
        "\n",
        "from google.colab import files\n",
        "#files.download('junk_class.h5') "
      ],
      "metadata": {
        "id": "rzizbYE5VqhS"
      },
      "execution_count": null,
      "outputs": []
    },
    {
      "cell_type": "markdown",
      "source": [
        "## Load Modello"
      ],
      "metadata": {
        "id": "x8LppHtPWE7W"
      }
    },
    {
      "cell_type": "code",
      "source": [
        "model = tf.keras.models.load_model('junk_class.h5')\n",
        "\n",
        "# Show the model architecture\n",
        "# model.summary()"
      ],
      "metadata": {
        "id": "Vgpyoq9kWG2K"
      },
      "execution_count": null,
      "outputs": []
    },
    {
      "cell_type": "markdown",
      "source": [
        "## Prediction"
      ],
      "metadata": {
        "id": "j7SbMTJ7icjB"
      }
    },
    {
      "cell_type": "code",
      "source": [
        "image_path = pathlib.Path(\"/content/trashnet/data/dataset-resized/dataset-resized/glass/glass115.jpg\")\n",
        "\n",
        "img = tf.keras.utils.load_img(\n",
        "    image_path, target_size=(img_height, img_width)\n",
        ")\n",
        "\n",
        "plt.imshow(img, interpolation='nearest')\n",
        "plt.axis('off')\n",
        "plt.show()\n",
        "\n",
        "img_array = tf.keras.utils.img_to_array(img)\n",
        "img_array = tf.expand_dims(img_array, 0) # Create a batch\n",
        "\n",
        "\n",
        "\n",
        "predictions = model.predict(img_array)\n",
        "score = tf.nn.softmax(predictions[0])\n",
        "\n",
        "print(\n",
        "    \"This image most likely belongs to {} with a {:.2f} percent confidence.\"\n",
        "    .format(class_names[np.argmax(score)], 100 * np.max(score))\n",
        ")"
      ],
      "metadata": {
        "id": "UNUsJWxRh_6v",
        "colab": {
          "base_uri": "https://localhost:8080/",
          "height": 265
        },
        "outputId": "76b7d697-56f9-437c-c2c1-4dae11a9f69d"
      },
      "execution_count": 26,
      "outputs": [
        {
          "output_type": "display_data",
          "data": {
            "image/png": "[encoded data removed]",
            "text/plain": [
              "<Figure size 432x288 with 1 Axes>"
            ]
          },
          "metadata": {
            "needs_background": "light"
          }
        },
        {
          "output_type": "stream",
          "name": "stdout",
          "text": [
            "This image most likely belongs to glass with a 95.13 percent confidence.\n"
          ]
        }
      ]
    }
  ]
}